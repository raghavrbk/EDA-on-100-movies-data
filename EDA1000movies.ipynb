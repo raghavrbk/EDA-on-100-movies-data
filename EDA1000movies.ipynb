{
 "cells": [
  {
   "cell_type": "markdown",
   "metadata": {},
   "source": [
    "# EDA on 1000 Movies data \n"
   ]
  },
  {
   "cell_type": "markdown",
   "metadata": {},
   "source": [
    "## Table of Contents \n"
   ]
  },
  {
   "cell_type": "markdown",
   "metadata": {},
   "source": [
    "\n",
    "1. [Problem Statement](#1)\n",
    "\n",
    "2. [Importing Packages](#2)\n",
    "\n",
    "3. [Loading Data and description](#3)\n",
    "   \n",
    "   3.1 [Pandas Profiling before Data Preprocessing](#3.1)\n",
    "4. [Data Preprocessing](#4)\n",
    "   \n",
    "   4.1 [Pandas Profiling after Data Preprocessing](#4.1)\n",
    "5. [Exploratory Data Analysis](#5)\n",
    "6. [Conclusion](#6)\n"
   ]
  },
  {
   "cell_type": "markdown",
   "metadata": {},
   "source": [
    "## 1. Problem statement <a id='1' ></a>"
   ]
  },
  {
   "cell_type": "markdown",
   "metadata": {},
   "source": [
    "The notebooks explores the basic use of Pandas and will cover the basic commands of Exploratory Data Analysis(EDA) which includes cleaning, combining, reshaping, slicing and transforming data for analysis purpose.\n",
    "* Exploratory Data Analysis \n",
    " Understand the data by EDA and derive simple models with Pandas as baseline. EDA ia a critical and first step in analyzing the data and we do this for below reasons :\n",
    "Finding patterns in Data\n",
    "* Determining relationships in Data\n",
    "* Checking of assumptions\n",
    "* Preliminary selection of appropriate models\n",
    "* Detection of mistakes \n",
    "\n"
   ]
  },
  {
   "cell_type": "markdown",
   "metadata": {},
   "source": [
    "## 2. Importing Packages <a id='2' ></a>"
   ]
  },
  {
   "cell_type": "code",
   "execution_count": 53,
   "metadata": {},
   "outputs": [
    {
     "data": {
      "text/html": [
       "        <script type=\"text/javascript\">\n",
       "        window.PlotlyConfig = {MathJaxConfig: 'local'};\n",
       "        if (window.MathJax) {MathJax.Hub.Config({SVG: {font: \"STIX-Web\"}});}\n",
       "        if (typeof require !== 'undefined') {\n",
       "        require.undef(\"plotly\");\n",
       "        requirejs.config({\n",
       "            paths: {\n",
       "                'plotly': ['https://cdn.plot.ly/plotly-latest.min']\n",
       "            }\n",
       "        });\n",
       "        require(['plotly'], function(Plotly) {\n",
       "            window._Plotly = Plotly;\n",
       "        });\n",
       "        }\n",
       "        </script>\n",
       "        "
      ]
     },
     "metadata": {},
     "output_type": "display_data"
    }
   ],
   "source": [
    "import pandas as pd\n",
    "import re \n",
    "import numpy as np\n",
    "\n",
    "import matplotlib.pyplot as plt\n",
    "plt.style.use('seaborn-whitegrid')                  # To apply seaborn whitegrid style to the plots.\n",
    "%matplotlib inline\n",
    "\n",
    "import seaborn as sns\n",
    "sns.set(style='whitegrid', font_scale=1.3, color_codes=True)      # To adjust seaborn settings for the plots.\n",
    "\n",
    "from plotly.offline import init_notebook_mode, iplot\n",
    "import plotly.graph_objs as go\n",
    "import chart_studio.plotly as py\n",
    "from plotly import tools\n",
    "init_notebook_mode(connected=True)\n",
    "\n"
   ]
  },
  {
   "cell_type": "markdown",
   "metadata": {},
   "source": [
    "## 3. Loading Data and description <a id='3' ></a>"
   ]
  },
  {
   "cell_type": "markdown",
   "metadata": {},
   "source": [
    "### Data description"
   ]
  },
  {
   "cell_type": "markdown",
   "metadata": {},
   "source": [
    "Dataset consists of 1,000 most popular movies on IMDB taken between 2006 and 2016. The data fields consists of 12 columns including Title, Genre, Description, Director, Actors, Year, Runtime, Rating, Votes, Revenue and Metascrore.\n"
   ]
  },
  {
   "cell_type": "markdown",
   "metadata": {},
   "source": [
    "## Importing Dataset"
   ]
  },
  {
   "cell_type": "code",
   "execution_count": 60,
   "metadata": {},
   "outputs": [
    {
     "data": {
      "text/html": [
       "<div>\n",
       "<style scoped>\n",
       "    .dataframe tbody tr th:only-of-type {\n",
       "        vertical-align: middle;\n",
       "    }\n",
       "\n",
       "    .dataframe tbody tr th {\n",
       "        vertical-align: top;\n",
       "    }\n",
       "\n",
       "    .dataframe thead th {\n",
       "        text-align: right;\n",
       "    }\n",
       "</style>\n",
       "<table border=\"1\" class=\"dataframe\">\n",
       "  <thead>\n",
       "    <tr style=\"text-align: right;\">\n",
       "      <th></th>\n",
       "      <th>Rank</th>\n",
       "      <th>Title</th>\n",
       "      <th>Genre</th>\n",
       "      <th>Description</th>\n",
       "      <th>Director</th>\n",
       "      <th>Actors</th>\n",
       "      <th>Year</th>\n",
       "      <th>Runtime (Minutes)</th>\n",
       "      <th>Rating</th>\n",
       "      <th>Votes</th>\n",
       "      <th>Revenue (Millions)</th>\n",
       "      <th>Metascore</th>\n",
       "    </tr>\n",
       "  </thead>\n",
       "  <tbody>\n",
       "    <tr>\n",
       "      <th>count</th>\n",
       "      <td>1000.000000</td>\n",
       "      <td>1000</td>\n",
       "      <td>1000</td>\n",
       "      <td>1000</td>\n",
       "      <td>1000</td>\n",
       "      <td>1000</td>\n",
       "      <td>1000.000000</td>\n",
       "      <td>1000.000000</td>\n",
       "      <td>1000.000000</td>\n",
       "      <td>1.000000e+03</td>\n",
       "      <td>872.000000</td>\n",
       "      <td>936.000000</td>\n",
       "    </tr>\n",
       "    <tr>\n",
       "      <th>unique</th>\n",
       "      <td>NaN</td>\n",
       "      <td>999</td>\n",
       "      <td>13</td>\n",
       "      <td>1000</td>\n",
       "      <td>644</td>\n",
       "      <td>996</td>\n",
       "      <td>NaN</td>\n",
       "      <td>NaN</td>\n",
       "      <td>NaN</td>\n",
       "      <td>NaN</td>\n",
       "      <td>NaN</td>\n",
       "      <td>NaN</td>\n",
       "    </tr>\n",
       "    <tr>\n",
       "      <th>top</th>\n",
       "      <td>NaN</td>\n",
       "      <td>The Host</td>\n",
       "      <td>Action</td>\n",
       "      <td>Two aimless middle-aged losers still living at...</td>\n",
       "      <td>Ridley Scott</td>\n",
       "      <td>Daniel Radcliffe, Emma Watson, Rupert Grint, M...</td>\n",
       "      <td>NaN</td>\n",
       "      <td>NaN</td>\n",
       "      <td>NaN</td>\n",
       "      <td>NaN</td>\n",
       "      <td>NaN</td>\n",
       "      <td>NaN</td>\n",
       "    </tr>\n",
       "    <tr>\n",
       "      <th>freq</th>\n",
       "      <td>NaN</td>\n",
       "      <td>2</td>\n",
       "      <td>293</td>\n",
       "      <td>1</td>\n",
       "      <td>8</td>\n",
       "      <td>2</td>\n",
       "      <td>NaN</td>\n",
       "      <td>NaN</td>\n",
       "      <td>NaN</td>\n",
       "      <td>NaN</td>\n",
       "      <td>NaN</td>\n",
       "      <td>NaN</td>\n",
       "    </tr>\n",
       "    <tr>\n",
       "      <th>mean</th>\n",
       "      <td>500.500000</td>\n",
       "      <td>NaN</td>\n",
       "      <td>NaN</td>\n",
       "      <td>NaN</td>\n",
       "      <td>NaN</td>\n",
       "      <td>NaN</td>\n",
       "      <td>2012.783000</td>\n",
       "      <td>113.172000</td>\n",
       "      <td>67.232000</td>\n",
       "      <td>1.698083e+05</td>\n",
       "      <td>82.956376</td>\n",
       "      <td>58.985043</td>\n",
       "    </tr>\n",
       "    <tr>\n",
       "      <th>std</th>\n",
       "      <td>288.819436</td>\n",
       "      <td>NaN</td>\n",
       "      <td>NaN</td>\n",
       "      <td>NaN</td>\n",
       "      <td>NaN</td>\n",
       "      <td>NaN</td>\n",
       "      <td>3.205962</td>\n",
       "      <td>18.810908</td>\n",
       "      <td>9.454288</td>\n",
       "      <td>1.887626e+05</td>\n",
       "      <td>103.253540</td>\n",
       "      <td>17.194757</td>\n",
       "    </tr>\n",
       "    <tr>\n",
       "      <th>min</th>\n",
       "      <td>1.000000</td>\n",
       "      <td>NaN</td>\n",
       "      <td>NaN</td>\n",
       "      <td>NaN</td>\n",
       "      <td>NaN</td>\n",
       "      <td>NaN</td>\n",
       "      <td>2006.000000</td>\n",
       "      <td>66.000000</td>\n",
       "      <td>19.000000</td>\n",
       "      <td>6.100000e+01</td>\n",
       "      <td>0.000000</td>\n",
       "      <td>11.000000</td>\n",
       "    </tr>\n",
       "    <tr>\n",
       "      <th>25%</th>\n",
       "      <td>250.750000</td>\n",
       "      <td>NaN</td>\n",
       "      <td>NaN</td>\n",
       "      <td>NaN</td>\n",
       "      <td>NaN</td>\n",
       "      <td>NaN</td>\n",
       "      <td>2010.000000</td>\n",
       "      <td>100.000000</td>\n",
       "      <td>62.000000</td>\n",
       "      <td>3.630900e+04</td>\n",
       "      <td>13.270000</td>\n",
       "      <td>47.000000</td>\n",
       "    </tr>\n",
       "    <tr>\n",
       "      <th>50%</th>\n",
       "      <td>500.500000</td>\n",
       "      <td>NaN</td>\n",
       "      <td>NaN</td>\n",
       "      <td>NaN</td>\n",
       "      <td>NaN</td>\n",
       "      <td>NaN</td>\n",
       "      <td>2014.000000</td>\n",
       "      <td>111.000000</td>\n",
       "      <td>68.000000</td>\n",
       "      <td>1.107990e+05</td>\n",
       "      <td>47.985000</td>\n",
       "      <td>59.500000</td>\n",
       "    </tr>\n",
       "    <tr>\n",
       "      <th>75%</th>\n",
       "      <td>750.250000</td>\n",
       "      <td>NaN</td>\n",
       "      <td>NaN</td>\n",
       "      <td>NaN</td>\n",
       "      <td>NaN</td>\n",
       "      <td>NaN</td>\n",
       "      <td>2016.000000</td>\n",
       "      <td>123.000000</td>\n",
       "      <td>74.000000</td>\n",
       "      <td>2.399098e+05</td>\n",
       "      <td>113.715000</td>\n",
       "      <td>72.000000</td>\n",
       "    </tr>\n",
       "    <tr>\n",
       "      <th>max</th>\n",
       "      <td>1000.000000</td>\n",
       "      <td>NaN</td>\n",
       "      <td>NaN</td>\n",
       "      <td>NaN</td>\n",
       "      <td>NaN</td>\n",
       "      <td>NaN</td>\n",
       "      <td>2016.000000</td>\n",
       "      <td>191.000000</td>\n",
       "      <td>90.000000</td>\n",
       "      <td>1.791916e+06</td>\n",
       "      <td>936.630000</td>\n",
       "      <td>100.000000</td>\n",
       "    </tr>\n",
       "  </tbody>\n",
       "</table>\n",
       "</div>"
      ],
      "text/plain": [
       "               Rank     Title   Genre  \\\n",
       "count   1000.000000      1000    1000   \n",
       "unique          NaN       999      13   \n",
       "top             NaN  The Host  Action   \n",
       "freq            NaN         2     293   \n",
       "mean     500.500000       NaN     NaN   \n",
       "std      288.819436       NaN     NaN   \n",
       "min        1.000000       NaN     NaN   \n",
       "25%      250.750000       NaN     NaN   \n",
       "50%      500.500000       NaN     NaN   \n",
       "75%      750.250000       NaN     NaN   \n",
       "max     1000.000000       NaN     NaN   \n",
       "\n",
       "                                              Description      Director  \\\n",
       "count                                                1000          1000   \n",
       "unique                                               1000           644   \n",
       "top     Two aimless middle-aged losers still living at...  Ridley Scott   \n",
       "freq                                                    1             8   \n",
       "mean                                                  NaN           NaN   \n",
       "std                                                   NaN           NaN   \n",
       "min                                                   NaN           NaN   \n",
       "25%                                                   NaN           NaN   \n",
       "50%                                                   NaN           NaN   \n",
       "75%                                                   NaN           NaN   \n",
       "max                                                   NaN           NaN   \n",
       "\n",
       "                                                   Actors         Year  \\\n",
       "count                                                1000  1000.000000   \n",
       "unique                                                996          NaN   \n",
       "top     Daniel Radcliffe, Emma Watson, Rupert Grint, M...          NaN   \n",
       "freq                                                    2          NaN   \n",
       "mean                                                  NaN  2012.783000   \n",
       "std                                                   NaN     3.205962   \n",
       "min                                                   NaN  2006.000000   \n",
       "25%                                                   NaN  2010.000000   \n",
       "50%                                                   NaN  2014.000000   \n",
       "75%                                                   NaN  2016.000000   \n",
       "max                                                   NaN  2016.000000   \n",
       "\n",
       "        Runtime (Minutes)       Rating         Votes  Revenue (Millions)  \\\n",
       "count         1000.000000  1000.000000  1.000000e+03          872.000000   \n",
       "unique                NaN          NaN           NaN                 NaN   \n",
       "top                   NaN          NaN           NaN                 NaN   \n",
       "freq                  NaN          NaN           NaN                 NaN   \n",
       "mean           113.172000    67.232000  1.698083e+05           82.956376   \n",
       "std             18.810908     9.454288  1.887626e+05          103.253540   \n",
       "min             66.000000    19.000000  6.100000e+01            0.000000   \n",
       "25%            100.000000    62.000000  3.630900e+04           13.270000   \n",
       "50%            111.000000    68.000000  1.107990e+05           47.985000   \n",
       "75%            123.000000    74.000000  2.399098e+05          113.715000   \n",
       "max            191.000000    90.000000  1.791916e+06          936.630000   \n",
       "\n",
       "         Metascore  \n",
       "count   936.000000  \n",
       "unique         NaN  \n",
       "top            NaN  \n",
       "freq           NaN  \n",
       "mean     58.985043  \n",
       "std      17.194757  \n",
       "min      11.000000  \n",
       "25%      47.000000  \n",
       "50%      59.500000  \n",
       "75%      72.000000  \n",
       "max     100.000000  "
      ]
     },
     "execution_count": 60,
     "metadata": {},
     "output_type": "execute_result"
    }
   ],
   "source": [
    "df= pd.read_csv('C:/Users/bkraghax/Documents/insaid/project/1000Movies.csv',index_col=0)\n",
    "\n",
    "\n",
    "df.describe(include= 'all')"
   ]
  },
  {
   "cell_type": "markdown",
   "metadata": {},
   "source": [
    "## 3.1 Pandas Profiling before Data Preprocessing <a id= '3.1' ></a>"
   ]
  },
  {
   "cell_type": "code",
   "execution_count": null,
   "metadata": {},
   "outputs": [],
   "source": [
    "import pandas_profiling \n",
    "\n",
    "profile = df.profile_report(title='Pandas Profiling before Data Preprocessing')\n",
    "profile.to_file(output_file=\"profiling_before_preprocessing_movies.html\")\n"
   ]
  },
  {
   "cell_type": "markdown",
   "metadata": {},
   "source": [
    "## Dataset info"
   ]
  },
  {
   "cell_type": "markdown",
   "metadata": {},
   "source": [
    "* Number of variables :12  \n",
    "* Number of observations:1000  \n",
    "* Missing cells :192 (1.6%) \n",
    "\n",
    "\n",
    "\n",
    "\n"
   ]
  },
  {
   "cell_type": "markdown",
   "metadata": {},
   "source": [
    "### Variables types"
   ]
  },
  {
   "cell_type": "markdown",
   "metadata": {},
   "source": [
    "* Numeric = 7 \n",
    "* Categorical = 4 \n",
    "* Text (Unique) = 1 \n"
   ]
  },
  {
   "cell_type": "markdown",
   "metadata": {},
   "source": [
    "* <b>Actors</b> has a high cardinality: 996 distinct values \n",
    "\n",
    "* <b>Director</b> has a high cardinality: 644 distinct values \n",
    "\n",
    "* <b>Metascore</b> has 64 (6.4%) missing values  \n",
    "\n",
    "* <b>Revenue_(Millions)</b> has 128 (12.8%) missing values\n",
    "\n",
    "* <b>Title</b> has a high cardinality: 999 distinct values  \n"
   ]
  },
  {
   "cell_type": "markdown",
   "metadata": {},
   "source": [
    "## 4. Data Preprocessing <a id='4' ></a>"
   ]
  },
  {
   "cell_type": "markdown",
   "metadata": {},
   "source": [
    "* Dropping the missing entries in Metascore and Revenue_(Millions) "
   ]
  },
  {
   "cell_type": "code",
   "execution_count": 56,
   "metadata": {},
   "outputs": [],
   "source": [
    "df.dropna(inplace=True)"
   ]
  },
  {
   "cell_type": "markdown",
   "metadata": {},
   "source": [
    "* Rating and Metascore are converted from Float to int type for better analysis "
   ]
  },
  {
   "cell_type": "code",
   "execution_count": null,
   "metadata": {},
   "outputs": [],
   "source": [
    "def fn(ft):\n",
    "    return int(ft)\n",
    "\n",
    "df['Rating']=df['Rating'].apply(fn)\n",
    "df['Metascore']=df['Metascore'].apply(fn)\n",
    "\n",
    "df.to_csv('1000Moviedata.csv') # saving the modified dataset to new csv file\n",
    "df= pd.read_csv('C:/Users/bkraghax/Documents/insaid/project/1000Moviedata.csv',index_col=0)\n"
   ]
  },
  {
   "cell_type": "markdown",
   "metadata": {},
   "source": [
    "## 4.1 Pandas Profiling after Data Preprocessing <a id='4.1' > </a>"
   ]
  },
  {
   "cell_type": "code",
   "execution_count": null,
   "metadata": {},
   "outputs": [],
   "source": [
    "profile = df.profile_report(title='Pandas Profiling after Data Preprocessing')\n",
    "profile.to_file(output_file=\"profiling_after_preprocessing_movie.html\")\n"
   ]
  },
  {
   "cell_type": "markdown",
   "metadata": {},
   "source": [
    "## Dataset info"
   ]
  },
  {
   "cell_type": "markdown",
   "metadata": {},
   "source": [
    "* Number of variables : 12  \n",
    "* Number of observations :838  \n",
    "* Missing cells: 0 (0.0%) \n",
    "* Duplicate rows: 0 (0.0%) "
   ]
  },
  {
   "cell_type": "markdown",
   "metadata": {},
   "source": [
    "## 5. Exploratory Data Analysis <a id='5' ></a>"
   ]
  },
  {
   "cell_type": "code",
   "execution_count": 57,
   "metadata": {},
   "outputs": [
    {
     "data": {
      "text/html": [
       "<div>\n",
       "<style scoped>\n",
       "    .dataframe tbody tr th:only-of-type {\n",
       "        vertical-align: middle;\n",
       "    }\n",
       "\n",
       "    .dataframe tbody tr th {\n",
       "        vertical-align: top;\n",
       "    }\n",
       "\n",
       "    .dataframe thead th {\n",
       "        text-align: right;\n",
       "    }\n",
       "</style>\n",
       "<table border=\"1\" class=\"dataframe\">\n",
       "  <thead>\n",
       "    <tr style=\"text-align: right;\">\n",
       "      <th></th>\n",
       "      <th>Rank</th>\n",
       "      <th>Title</th>\n",
       "      <th>Genre</th>\n",
       "      <th>Description</th>\n",
       "      <th>Director</th>\n",
       "      <th>Actors</th>\n",
       "      <th>Year</th>\n",
       "      <th>Runtime_(Minutes)</th>\n",
       "      <th>Rating</th>\n",
       "      <th>Votes</th>\n",
       "      <th>Revenue_(Millions)</th>\n",
       "      <th>Metascore</th>\n",
       "    </tr>\n",
       "  </thead>\n",
       "  <tbody>\n",
       "    <tr>\n",
       "      <th>0</th>\n",
       "      <td>1</td>\n",
       "      <td>Guardians of the Galaxy</td>\n",
       "      <td>Action</td>\n",
       "      <td>A group of intergalactic criminals are forced ...</td>\n",
       "      <td>James Gunn</td>\n",
       "      <td>Chris Pratt, Vin Diesel, Bradley Cooper, Zoe S...</td>\n",
       "      <td>2014</td>\n",
       "      <td>121</td>\n",
       "      <td>81</td>\n",
       "      <td>757074</td>\n",
       "      <td>333.13</td>\n",
       "      <td>76</td>\n",
       "    </tr>\n",
       "    <tr>\n",
       "      <th>1</th>\n",
       "      <td>2</td>\n",
       "      <td>Prometheus</td>\n",
       "      <td>Adventure</td>\n",
       "      <td>Following clues to the origin of mankind, a te...</td>\n",
       "      <td>Ridley Scott</td>\n",
       "      <td>Noomi Rapace, Logan Marshall-Green, Michael Fa...</td>\n",
       "      <td>2012</td>\n",
       "      <td>124</td>\n",
       "      <td>70</td>\n",
       "      <td>485820</td>\n",
       "      <td>126.46</td>\n",
       "      <td>65</td>\n",
       "    </tr>\n",
       "    <tr>\n",
       "      <th>2</th>\n",
       "      <td>3</td>\n",
       "      <td>Split</td>\n",
       "      <td>Horror</td>\n",
       "      <td>Three girls are kidnapped by a man with a diag...</td>\n",
       "      <td>M. Night Shyamalan</td>\n",
       "      <td>James McAvoy, Anya Taylor-Joy, Haley Lu Richar...</td>\n",
       "      <td>2016</td>\n",
       "      <td>117</td>\n",
       "      <td>73</td>\n",
       "      <td>157606</td>\n",
       "      <td>138.12</td>\n",
       "      <td>62</td>\n",
       "    </tr>\n",
       "    <tr>\n",
       "      <th>3</th>\n",
       "      <td>4</td>\n",
       "      <td>Sing</td>\n",
       "      <td>Animation</td>\n",
       "      <td>In a city of humanoid animals, a hustling thea...</td>\n",
       "      <td>Christophe Lourdelet</td>\n",
       "      <td>Matthew McConaughey,Reese Witherspoon, Seth Ma...</td>\n",
       "      <td>2016</td>\n",
       "      <td>108</td>\n",
       "      <td>72</td>\n",
       "      <td>60545</td>\n",
       "      <td>270.32</td>\n",
       "      <td>59</td>\n",
       "    </tr>\n",
       "    <tr>\n",
       "      <th>4</th>\n",
       "      <td>5</td>\n",
       "      <td>Suicide Squad</td>\n",
       "      <td>Action</td>\n",
       "      <td>A secret government agency recruits some of th...</td>\n",
       "      <td>David Ayer</td>\n",
       "      <td>Will Smith, Jared Leto, Margot Robbie, Viola D...</td>\n",
       "      <td>2016</td>\n",
       "      <td>123</td>\n",
       "      <td>62</td>\n",
       "      <td>393727</td>\n",
       "      <td>325.02</td>\n",
       "      <td>40</td>\n",
       "    </tr>\n",
       "  </tbody>\n",
       "</table>\n",
       "</div>"
      ],
      "text/plain": [
       "   Rank                    Title      Genre  \\\n",
       "0     1  Guardians of the Galaxy     Action   \n",
       "1     2               Prometheus  Adventure   \n",
       "2     3                    Split     Horror   \n",
       "3     4                     Sing  Animation   \n",
       "4     5            Suicide Squad     Action   \n",
       "\n",
       "                                         Description              Director  \\\n",
       "0  A group of intergalactic criminals are forced ...            James Gunn   \n",
       "1  Following clues to the origin of mankind, a te...          Ridley Scott   \n",
       "2  Three girls are kidnapped by a man with a diag...    M. Night Shyamalan   \n",
       "3  In a city of humanoid animals, a hustling thea...  Christophe Lourdelet   \n",
       "4  A secret government agency recruits some of th...            David Ayer   \n",
       "\n",
       "                                              Actors  Year  Runtime_(Minutes)  \\\n",
       "0  Chris Pratt, Vin Diesel, Bradley Cooper, Zoe S...  2014                121   \n",
       "1  Noomi Rapace, Logan Marshall-Green, Michael Fa...  2012                124   \n",
       "2  James McAvoy, Anya Taylor-Joy, Haley Lu Richar...  2016                117   \n",
       "3  Matthew McConaughey,Reese Witherspoon, Seth Ma...  2016                108   \n",
       "4  Will Smith, Jared Leto, Margot Robbie, Viola D...  2016                123   \n",
       "\n",
       "   Rating   Votes  Revenue_(Millions)  Metascore  \n",
       "0      81  757074              333.13         76  \n",
       "1      70  485820              126.46         65  \n",
       "2      73  157606              138.12         62  \n",
       "3      72   60545              270.32         59  \n",
       "4      62  393727              325.02         40  "
      ]
     },
     "execution_count": 57,
     "metadata": {},
     "output_type": "execute_result"
    }
   ],
   "source": [
    "df.head()"
   ]
  },
  {
   "cell_type": "markdown",
   "metadata": {},
   "source": [
    "# Which are the top 10 different genres among the movies ?"
   ]
  },
  {
   "cell_type": "code",
   "execution_count": 63,
   "metadata": {},
   "outputs": [
    {
     "data": {
      "text/plain": [
       "Action       293\n",
       "Drama        195\n",
       "Comedy       175\n",
       "Adventure     75\n",
       "Crime         71\n",
       "Biography     64\n",
       "Animation     49\n",
       "Horror        46\n",
       "Mystery       13\n",
       "Thriller      10\n",
       "Name: Genre, dtype: int64"
      ]
     },
     "execution_count": 63,
     "metadata": {},
     "output_type": "execute_result"
    }
   ],
   "source": [
    "df['Genre'].value_counts()[:10]"
   ]
  },
  {
   "cell_type": "code",
   "execution_count": 64,
   "metadata": {
    "scrolled": true
   },
   "outputs": [
    {
     "data": {
      "text/plain": [
       "Text(0.5, 1.0, 'Donut Plot showing the proportion of each Genre ')"
      ]
     },
     "execution_count": 64,
     "metadata": {},
     "output_type": "execute_result"
    },
    {
     "data": {
      "image/png": "[encoded data removed]",
      "text/plain": [
       "<Figure size 1008x1152 with 1 Axes>"
      ]
     },
     "metadata": {},
     "output_type": "display_data"
    }
   ],
   "source": [
    "df['Genre'].value_counts()[:10].plot(kind='pie',fontsize=12, autopct='%3.1f%%', wedgeprops=dict(width=0.15), \n",
    "                                       shadow=True, startangle=180, figsize=(14,16), cmap='inferno',legend=True)\n",
    "plt.ylabel('Genre')\n",
    "plt.title('Donut Plot showing the proportion of each Genre ')"
   ]
  },
  {
   "cell_type": "markdown",
   "metadata": {},
   "source": [
    "* Action , Comedy and Drama are the most common genres among the movies followed by adventure  , crime and biography .\n"
   ]
  },
  {
   "cell_type": "markdown",
   "metadata": {
    "scrolled": true
   },
   "source": [
    "# Which are Top 20  movies with highest gross Revenue ?\n",
    "\n",
    "\n",
    "\n"
   ]
  },
  {
   "cell_type": "code",
   "execution_count": 38,
   "metadata": {
    "scrolled": false
   },
   "outputs": [
    {
     "data": {
      "text/html": [
       "<div>\n",
       "<style scoped>\n",
       "    .dataframe tbody tr th:only-of-type {\n",
       "        vertical-align: middle;\n",
       "    }\n",
       "\n",
       "    .dataframe tbody tr th {\n",
       "        vertical-align: top;\n",
       "    }\n",
       "\n",
       "    .dataframe thead th {\n",
       "        text-align: right;\n",
       "    }\n",
       "</style>\n",
       "<table border=\"1\" class=\"dataframe\">\n",
       "  <thead>\n",
       "    <tr style=\"text-align: right;\">\n",
       "      <th></th>\n",
       "      <th>Rank</th>\n",
       "      <th>Title</th>\n",
       "      <th>Genre</th>\n",
       "      <th>Description</th>\n",
       "      <th>Director</th>\n",
       "      <th>Actors</th>\n",
       "      <th>Year</th>\n",
       "      <th>Runtime (Minutes)</th>\n",
       "      <th>Rating</th>\n",
       "      <th>Votes</th>\n",
       "      <th>Revenue (Millions)</th>\n",
       "      <th>Metascore</th>\n",
       "    </tr>\n",
       "  </thead>\n",
       "  <tbody>\n",
       "    <tr>\n",
       "      <th>41</th>\n",
       "      <td>51</td>\n",
       "      <td>Star Wars: Episode VII - The Force Awakens</td>\n",
       "      <td>Action</td>\n",
       "      <td>Three decades after the defeat of the Galactic...</td>\n",
       "      <td>J.J. Abrams</td>\n",
       "      <td>Daisy Ridley, John Boyega, Oscar Isaac, Domhna...</td>\n",
       "      <td>2015</td>\n",
       "      <td>136</td>\n",
       "      <td>81</td>\n",
       "      <td>661608</td>\n",
       "      <td>936.63</td>\n",
       "      <td>81</td>\n",
       "    </tr>\n",
       "    <tr>\n",
       "      <th>76</th>\n",
       "      <td>88</td>\n",
       "      <td>Avatar</td>\n",
       "      <td>Action</td>\n",
       "      <td>A paraplegic marine dispatched to the moon Pan...</td>\n",
       "      <td>James Cameron</td>\n",
       "      <td>Sam Worthington, Zoe Saldana, Sigourney Weaver...</td>\n",
       "      <td>2009</td>\n",
       "      <td>162</td>\n",
       "      <td>78</td>\n",
       "      <td>935408</td>\n",
       "      <td>760.51</td>\n",
       "      <td>83</td>\n",
       "    </tr>\n",
       "    <tr>\n",
       "      <th>74</th>\n",
       "      <td>86</td>\n",
       "      <td>Jurassic World</td>\n",
       "      <td>Action</td>\n",
       "      <td>A new theme park, built on the original site o...</td>\n",
       "      <td>Colin Trevorrow</td>\n",
       "      <td>Chris Pratt, Bryce Dallas Howard, Ty Simpkins,...</td>\n",
       "      <td>2015</td>\n",
       "      <td>124</td>\n",
       "      <td>70</td>\n",
       "      <td>455169</td>\n",
       "      <td>652.18</td>\n",
       "      <td>59</td>\n",
       "    </tr>\n",
       "    <tr>\n",
       "      <th>65</th>\n",
       "      <td>77</td>\n",
       "      <td>The Avengers</td>\n",
       "      <td>Action</td>\n",
       "      <td>Earth's mightiest heroes must come together an...</td>\n",
       "      <td>Joss Whedon</td>\n",
       "      <td>Robert Downey Jr., Chris Evans, Scarlett Johan...</td>\n",
       "      <td>2012</td>\n",
       "      <td>143</td>\n",
       "      <td>81</td>\n",
       "      <td>1045588</td>\n",
       "      <td>623.28</td>\n",
       "      <td>69</td>\n",
       "    </tr>\n",
       "    <tr>\n",
       "      <th>45</th>\n",
       "      <td>55</td>\n",
       "      <td>The Dark Knight</td>\n",
       "      <td>Action</td>\n",
       "      <td>When the menace known as the Joker wreaks havo...</td>\n",
       "      <td>Christopher Nolan</td>\n",
       "      <td>Christian Bale, Heath Ledger, Aaron Eckhart,Mi...</td>\n",
       "      <td>2008</td>\n",
       "      <td>152</td>\n",
       "      <td>90</td>\n",
       "      <td>1791916</td>\n",
       "      <td>533.32</td>\n",
       "      <td>82</td>\n",
       "    </tr>\n",
       "    <tr>\n",
       "      <th>11</th>\n",
       "      <td>13</td>\n",
       "      <td>Rogue One</td>\n",
       "      <td>Action</td>\n",
       "      <td>The Rebel Alliance makes a risky move to steal...</td>\n",
       "      <td>Gareth Edwards</td>\n",
       "      <td>Felicity Jones, Diego Luna, Alan Tudyk, Donnie...</td>\n",
       "      <td>2016</td>\n",
       "      <td>133</td>\n",
       "      <td>79</td>\n",
       "      <td>323118</td>\n",
       "      <td>532.17</td>\n",
       "      <td>65</td>\n",
       "    </tr>\n",
       "    <tr>\n",
       "      <th>104</th>\n",
       "      <td>120</td>\n",
       "      <td>Finding Dory</td>\n",
       "      <td>Animation</td>\n",
       "      <td>The friendly but forgetful blue tang fish, Dor...</td>\n",
       "      <td>Andrew Stanton</td>\n",
       "      <td>Ellen DeGeneres, Albert Brooks,Ed O'Neill, Kai...</td>\n",
       "      <td>2016</td>\n",
       "      <td>97</td>\n",
       "      <td>74</td>\n",
       "      <td>157026</td>\n",
       "      <td>486.29</td>\n",
       "      <td>77</td>\n",
       "    </tr>\n",
       "    <tr>\n",
       "      <th>83</th>\n",
       "      <td>95</td>\n",
       "      <td>Avengers: Age of Ultron</td>\n",
       "      <td>Action</td>\n",
       "      <td>When Tony Stark and Bruce Banner try to jump-s...</td>\n",
       "      <td>Joss Whedon</td>\n",
       "      <td>Robert Downey Jr., Chris Evans, Mark Ruffalo, ...</td>\n",
       "      <td>2015</td>\n",
       "      <td>141</td>\n",
       "      <td>74</td>\n",
       "      <td>516895</td>\n",
       "      <td>458.99</td>\n",
       "      <td>66</td>\n",
       "    </tr>\n",
       "    <tr>\n",
       "      <th>108</th>\n",
       "      <td>125</td>\n",
       "      <td>The Dark Knight Rises</td>\n",
       "      <td>Action</td>\n",
       "      <td>Eight years after the Joker's reign of anarchy...</td>\n",
       "      <td>Christopher Nolan</td>\n",
       "      <td>Christian Bale, Tom Hardy, Anne Hathaway,Gary ...</td>\n",
       "      <td>2012</td>\n",
       "      <td>164</td>\n",
       "      <td>85</td>\n",
       "      <td>1222645</td>\n",
       "      <td>448.13</td>\n",
       "      <td>78</td>\n",
       "    </tr>\n",
       "    <tr>\n",
       "      <th>502</th>\n",
       "      <td>579</td>\n",
       "      <td>The Hunger Games: Catching Fire</td>\n",
       "      <td>Action</td>\n",
       "      <td>Katniss Everdeen and Peeta Mellark become targ...</td>\n",
       "      <td>Francis Lawrence</td>\n",
       "      <td>Jennifer Lawrence, Josh Hutcherson, Liam Hemsw...</td>\n",
       "      <td>2013</td>\n",
       "      <td>146</td>\n",
       "      <td>76</td>\n",
       "      <td>525646</td>\n",
       "      <td>424.65</td>\n",
       "      <td>76</td>\n",
       "    </tr>\n",
       "    <tr>\n",
       "      <th>67</th>\n",
       "      <td>79</td>\n",
       "      <td>Pirates of the Caribbean: Dead Man's Chest</td>\n",
       "      <td>Action</td>\n",
       "      <td>Jack Sparrow races to recover the heart of Dav...</td>\n",
       "      <td>Gore Verbinski</td>\n",
       "      <td>Johnny Depp, Orlando Bloom, Keira Knightley, J...</td>\n",
       "      <td>2006</td>\n",
       "      <td>151</td>\n",
       "      <td>73</td>\n",
       "      <td>552027</td>\n",
       "      <td>423.03</td>\n",
       "      <td>53</td>\n",
       "    </tr>\n",
       "    <tr>\n",
       "      <th>594</th>\n",
       "      <td>689</td>\n",
       "      <td>Toy Story 3</td>\n",
       "      <td>Animation</td>\n",
       "      <td>The toys are mistakenly delivered to a day-car...</td>\n",
       "      <td>Lee Unkrich</td>\n",
       "      <td>Tom Hanks, Tim Allen, Joan Cusack, Ned Beatty</td>\n",
       "      <td>2010</td>\n",
       "      <td>103</td>\n",
       "      <td>83</td>\n",
       "      <td>586669</td>\n",
       "      <td>414.98</td>\n",
       "      <td>92</td>\n",
       "    </tr>\n",
       "    <tr>\n",
       "      <th>249</th>\n",
       "      <td>280</td>\n",
       "      <td>Iron Man Three</td>\n",
       "      <td>Action</td>\n",
       "      <td>When Tony Stark's world is torn apart by a for...</td>\n",
       "      <td>Shane Black</td>\n",
       "      <td>Robert Downey Jr., Guy Pearce, Gwyneth Paltrow...</td>\n",
       "      <td>2013</td>\n",
       "      <td>130</td>\n",
       "      <td>72</td>\n",
       "      <td>591023</td>\n",
       "      <td>408.99</td>\n",
       "      <td>62</td>\n",
       "    </tr>\n",
       "    <tr>\n",
       "      <th>30</th>\n",
       "      <td>36</td>\n",
       "      <td>Captain America: Civil War</td>\n",
       "      <td>Action</td>\n",
       "      <td>Political interference in the Avengers' activi...</td>\n",
       "      <td>Anthony Russo</td>\n",
       "      <td>Chris Evans, Robert Downey Jr.,Scarlett Johans...</td>\n",
       "      <td>2016</td>\n",
       "      <td>147</td>\n",
       "      <td>79</td>\n",
       "      <td>411656</td>\n",
       "      <td>408.08</td>\n",
       "      <td>75</td>\n",
       "    </tr>\n",
       "    <tr>\n",
       "      <th>134</th>\n",
       "      <td>152</td>\n",
       "      <td>The Hunger Games</td>\n",
       "      <td>Adventure</td>\n",
       "      <td>Katniss Everdeen voluntarily takes her younger...</td>\n",
       "      <td>Gary Ross</td>\n",
       "      <td>Jennifer Lawrence, Josh Hutcherson, Liam Hemsw...</td>\n",
       "      <td>2012</td>\n",
       "      <td>142</td>\n",
       "      <td>72</td>\n",
       "      <td>735604</td>\n",
       "      <td>408.00</td>\n",
       "      <td>68</td>\n",
       "    </tr>\n",
       "    <tr>\n",
       "      <th>609</th>\n",
       "      <td>711</td>\n",
       "      <td>Transformers: Revenge of the Fallen</td>\n",
       "      <td>Action</td>\n",
       "      <td>Sam Witwicky leaves the Autobots behind for a ...</td>\n",
       "      <td>Michael Bay</td>\n",
       "      <td>Shia LaBeouf, Megan Fox, Josh Duhamel, Tyrese ...</td>\n",
       "      <td>2009</td>\n",
       "      <td>150</td>\n",
       "      <td>60</td>\n",
       "      <td>335757</td>\n",
       "      <td>402.08</td>\n",
       "      <td>35</td>\n",
       "    </tr>\n",
       "    <tr>\n",
       "      <th>154</th>\n",
       "      <td>175</td>\n",
       "      <td>Frozen</td>\n",
       "      <td>Animation</td>\n",
       "      <td>When the newly crowned Queen Elsa accidentally...</td>\n",
       "      <td>Chris Buck</td>\n",
       "      <td>Kristen Bell, Idina Menzel, Jonathan Groff, Jo...</td>\n",
       "      <td>2013</td>\n",
       "      <td>102</td>\n",
       "      <td>75</td>\n",
       "      <td>451894</td>\n",
       "      <td>400.74</td>\n",
       "      <td>74</td>\n",
       "    </tr>\n",
       "    <tr>\n",
       "      <th>100</th>\n",
       "      <td>115</td>\n",
       "      <td>Harry Potter and the Deathly Hallows: Part 2</td>\n",
       "      <td>Adventure</td>\n",
       "      <td>Harry, Ron and Hermione search for Voldemort's...</td>\n",
       "      <td>David Yates</td>\n",
       "      <td>Daniel Radcliffe, Emma Watson, Rupert Grint, M...</td>\n",
       "      <td>2011</td>\n",
       "      <td>130</td>\n",
       "      <td>81</td>\n",
       "      <td>590595</td>\n",
       "      <td>380.96</td>\n",
       "      <td>87</td>\n",
       "    </tr>\n",
       "    <tr>\n",
       "      <th>14</th>\n",
       "      <td>16</td>\n",
       "      <td>The Secret Life of Pets</td>\n",
       "      <td>Animation</td>\n",
       "      <td>The quiet life of a terrier named Max is upend...</td>\n",
       "      <td>Chris Renaud</td>\n",
       "      <td>Louis C.K., Eric Stonestreet, Kevin Hart, Lake...</td>\n",
       "      <td>2016</td>\n",
       "      <td>87</td>\n",
       "      <td>66</td>\n",
       "      <td>120259</td>\n",
       "      <td>368.31</td>\n",
       "      <td>61</td>\n",
       "    </tr>\n",
       "    <tr>\n",
       "      <th>681</th>\n",
       "      <td>798</td>\n",
       "      <td>Despicable Me 2</td>\n",
       "      <td>Animation</td>\n",
       "      <td>When Gru, the world's most super-bad turned su...</td>\n",
       "      <td>Pierre Coffin</td>\n",
       "      <td>Steve Carell, Kristen Wiig, Benjamin Bratt, Mi...</td>\n",
       "      <td>2013</td>\n",
       "      <td>98</td>\n",
       "      <td>74</td>\n",
       "      <td>304837</td>\n",
       "      <td>368.05</td>\n",
       "      <td>62</td>\n",
       "    </tr>\n",
       "  </tbody>\n",
       "</table>\n",
       "</div>"
      ],
      "text/plain": [
       "     Rank                                         Title      Genre  \\\n",
       "41     51    Star Wars: Episode VII - The Force Awakens     Action   \n",
       "76     88                                        Avatar     Action   \n",
       "74     86                                Jurassic World     Action   \n",
       "65     77                                  The Avengers     Action   \n",
       "45     55                               The Dark Knight     Action   \n",
       "11     13                                     Rogue One     Action   \n",
       "104   120                                  Finding Dory  Animation   \n",
       "83     95                       Avengers: Age of Ultron     Action   \n",
       "108   125                         The Dark Knight Rises     Action   \n",
       "502   579               The Hunger Games: Catching Fire     Action   \n",
       "67     79    Pirates of the Caribbean: Dead Man's Chest     Action   \n",
       "594   689                                   Toy Story 3  Animation   \n",
       "249   280                                Iron Man Three     Action   \n",
       "30     36                    Captain America: Civil War     Action   \n",
       "134   152                              The Hunger Games  Adventure   \n",
       "609   711           Transformers: Revenge of the Fallen     Action   \n",
       "154   175                                        Frozen  Animation   \n",
       "100   115  Harry Potter and the Deathly Hallows: Part 2  Adventure   \n",
       "14     16                       The Secret Life of Pets  Animation   \n",
       "681   798                               Despicable Me 2  Animation   \n",
       "\n",
       "                                           Description           Director  \\\n",
       "41   Three decades after the defeat of the Galactic...        J.J. Abrams   \n",
       "76   A paraplegic marine dispatched to the moon Pan...      James Cameron   \n",
       "74   A new theme park, built on the original site o...    Colin Trevorrow   \n",
       "65   Earth's mightiest heroes must come together an...        Joss Whedon   \n",
       "45   When the menace known as the Joker wreaks havo...  Christopher Nolan   \n",
       "11   The Rebel Alliance makes a risky move to steal...     Gareth Edwards   \n",
       "104  The friendly but forgetful blue tang fish, Dor...     Andrew Stanton   \n",
       "83   When Tony Stark and Bruce Banner try to jump-s...        Joss Whedon   \n",
       "108  Eight years after the Joker's reign of anarchy...  Christopher Nolan   \n",
       "502  Katniss Everdeen and Peeta Mellark become targ...   Francis Lawrence   \n",
       "67   Jack Sparrow races to recover the heart of Dav...     Gore Verbinski   \n",
       "594  The toys are mistakenly delivered to a day-car...        Lee Unkrich   \n",
       "249  When Tony Stark's world is torn apart by a for...        Shane Black   \n",
       "30   Political interference in the Avengers' activi...      Anthony Russo   \n",
       "134  Katniss Everdeen voluntarily takes her younger...          Gary Ross   \n",
       "609  Sam Witwicky leaves the Autobots behind for a ...        Michael Bay   \n",
       "154  When the newly crowned Queen Elsa accidentally...         Chris Buck   \n",
       "100  Harry, Ron and Hermione search for Voldemort's...        David Yates   \n",
       "14   The quiet life of a terrier named Max is upend...       Chris Renaud   \n",
       "681  When Gru, the world's most super-bad turned su...      Pierre Coffin   \n",
       "\n",
       "                                                Actors  Year  \\\n",
       "41   Daisy Ridley, John Boyega, Oscar Isaac, Domhna...  2015   \n",
       "76   Sam Worthington, Zoe Saldana, Sigourney Weaver...  2009   \n",
       "74   Chris Pratt, Bryce Dallas Howard, Ty Simpkins,...  2015   \n",
       "65   Robert Downey Jr., Chris Evans, Scarlett Johan...  2012   \n",
       "45   Christian Bale, Heath Ledger, Aaron Eckhart,Mi...  2008   \n",
       "11   Felicity Jones, Diego Luna, Alan Tudyk, Donnie...  2016   \n",
       "104  Ellen DeGeneres, Albert Brooks,Ed O'Neill, Kai...  2016   \n",
       "83   Robert Downey Jr., Chris Evans, Mark Ruffalo, ...  2015   \n",
       "108  Christian Bale, Tom Hardy, Anne Hathaway,Gary ...  2012   \n",
       "502  Jennifer Lawrence, Josh Hutcherson, Liam Hemsw...  2013   \n",
       "67   Johnny Depp, Orlando Bloom, Keira Knightley, J...  2006   \n",
       "594      Tom Hanks, Tim Allen, Joan Cusack, Ned Beatty  2010   \n",
       "249  Robert Downey Jr., Guy Pearce, Gwyneth Paltrow...  2013   \n",
       "30   Chris Evans, Robert Downey Jr.,Scarlett Johans...  2016   \n",
       "134  Jennifer Lawrence, Josh Hutcherson, Liam Hemsw...  2012   \n",
       "609  Shia LaBeouf, Megan Fox, Josh Duhamel, Tyrese ...  2009   \n",
       "154  Kristen Bell, Idina Menzel, Jonathan Groff, Jo...  2013   \n",
       "100  Daniel Radcliffe, Emma Watson, Rupert Grint, M...  2011   \n",
       "14   Louis C.K., Eric Stonestreet, Kevin Hart, Lake...  2016   \n",
       "681  Steve Carell, Kristen Wiig, Benjamin Bratt, Mi...  2013   \n",
       "\n",
       "     Runtime (Minutes)  Rating    Votes  Revenue (Millions)  Metascore  \n",
       "41                 136      81   661608              936.63         81  \n",
       "76                 162      78   935408              760.51         83  \n",
       "74                 124      70   455169              652.18         59  \n",
       "65                 143      81  1045588              623.28         69  \n",
       "45                 152      90  1791916              533.32         82  \n",
       "11                 133      79   323118              532.17         65  \n",
       "104                 97      74   157026              486.29         77  \n",
       "83                 141      74   516895              458.99         66  \n",
       "108                164      85  1222645              448.13         78  \n",
       "502                146      76   525646              424.65         76  \n",
       "67                 151      73   552027              423.03         53  \n",
       "594                103      83   586669              414.98         92  \n",
       "249                130      72   591023              408.99         62  \n",
       "30                 147      79   411656              408.08         75  \n",
       "134                142      72   735604              408.00         68  \n",
       "609                150      60   335757              402.08         35  \n",
       "154                102      75   451894              400.74         74  \n",
       "100                130      81   590595              380.96         87  \n",
       "14                  87      66   120259              368.31         61  \n",
       "681                 98      74   304837              368.05         62  "
      ]
     },
     "execution_count": 38,
     "metadata": {},
     "output_type": "execute_result"
    }
   ],
   "source": [
    "df_hgross=df.iloc[df['Revenue (Millions)'].sort_values(ascending=False).index,:][:20]\n",
    "df_hgross"
   ]
  },
  {
   "cell_type": "markdown",
   "metadata": {},
   "source": [
    "* <b>Star wars Episode 7</b> is the highest grossing Movie followed by <b>Avatar</b> ,<b>Jurrasic world</b> and <b>The Avengers</b>."
   ]
  },
  {
   "cell_type": "markdown",
   "metadata": {},
   "source": [
    "# Distribution between audience rating and Critics rating among Top 20 highest grossing movies \n",
    "\n"
   ]
  },
  {
   "cell_type": "code",
   "execution_count": 67,
   "metadata": {},
   "outputs": [
    {
     "data": {
      "text/plain": [
       "count    20.000000\n",
       "mean     76.150000\n",
       "std       6.761151\n",
       "min      60.000000\n",
       "25%      72.750000\n",
       "50%      75.500000\n",
       "75%      81.000000\n",
       "max      90.000000\n",
       "Name: Rating, dtype: float64"
      ]
     },
     "execution_count": 67,
     "metadata": {},
     "output_type": "execute_result"
    }
   ],
   "source": [
    "df_hgross['Rating'].describe()"
   ]
  },
  {
   "cell_type": "code",
   "execution_count": 68,
   "metadata": {},
   "outputs": [
    {
     "data": {
      "text/plain": [
       "count    20.000000\n",
       "mean     70.250000\n",
       "std      13.150445\n",
       "min      35.000000\n",
       "25%      62.000000\n",
       "50%      71.500000\n",
       "75%      78.750000\n",
       "max      92.000000\n",
       "Name: Metascore, dtype: float64"
      ]
     },
     "execution_count": 68,
     "metadata": {},
     "output_type": "execute_result"
    }
   ],
   "source": [
    "df_hgross['Metascore'].describe()"
   ]
  },
  {
   "cell_type": "code",
   "execution_count": 69,
   "metadata": {
    "scrolled": false
   },
   "outputs": [
    {
     "data": {
      "text/plain": [
       "<matplotlib.legend.Legend at 0x1edf7eeac88>"
      ]
     },
     "execution_count": 69,
     "metadata": {},
     "output_type": "execute_result"
    },
    {
     "data": {
      "image/png": "[encoded data removed]",
      "text/plain": [
       "<Figure size 432x288 with 1 Axes>"
      ]
     },
     "metadata": {
      "needs_background": "light"
     },
     "output_type": "display_data"
    }
   ],
   "source": [
    "import seaborn as sns\n",
    "%matplotlib inline\n",
    "\n",
    "\n",
    "sns.distplot(df_hgross['Rating'],hist=True ,kde=True,label='Audience_rating')\n",
    "sns.distplot(df_hgross['Metascore'],hist=True ,kde=True,label='Critic_rating')\n",
    "plt.legend()"
   ]
  },
  {
   "cell_type": "markdown",
   "metadata": {},
   "source": [
    "* <b>Audience rating (Rating)</b> is on higher side mostly between 70-90 and it is less spread  , whereas <b>Critics rating</b> is more spread "
   ]
  },
  {
   "cell_type": "markdown",
   "metadata": {},
   "source": [
    "# How does Audience and critic ratings vary with Runtime (Minutes) of movies ?"
   ]
  },
  {
   "cell_type": "code",
   "execution_count": 41,
   "metadata": {},
   "outputs": [
    {
     "data": {
      "image/png": "[encoded data removed]",
      "text/plain": [
       "<Figure size 432x432 with 3 Axes>"
      ]
     },
     "metadata": {
      "needs_background": "light"
     },
     "output_type": "display_data"
    },
    {
     "data": {
      "image/png": "[encoded data removed]",
      "text/plain": [
       "<Figure size 432x432 with 3 Axes>"
      ]
     },
     "metadata": {
      "needs_background": "light"
     },
     "output_type": "display_data"
    }
   ],
   "source": [
    "\n",
    "\n",
    "sns.jointplot(x=df['Runtime (Minutes)'], y=df['Rating'], data=df);\n",
    "sns.jointplot(x=df['Runtime (Minutes)'], y=df['Metascore'], data=df);"
   ]
  },
  {
   "cell_type": "markdown",
   "metadata": {},
   "source": [
    "* Runtime of most of the movies falls between 100-125mins and Audience ratings are in range 60-80 for the same .Movies with longer runtimes are also mostly rated above 70 by audience. \n",
    "* Critics ratings is widely spread between 20 to 80 for movies under 125 mins . Movies longer than 125 mins are mostly rated above 60 . \n",
    "* It seems both audience and critics have liked movies with longer runtimes ."
   ]
  },
  {
   "cell_type": "markdown",
   "metadata": {},
   "source": [
    "# How does Gross Revenue related with Number of Votes ?"
   ]
  },
  {
   "cell_type": "code",
   "execution_count": 42,
   "metadata": {},
   "outputs": [
    {
     "data": {
      "image/png": "[encoded data removed]",
      "text/plain": [
       "<Figure size 432x432 with 3 Axes>"
      ]
     },
     "metadata": {
      "needs_background": "light"
     },
     "output_type": "display_data"
    }
   ],
   "source": [
    "sns.jointplot(x=df['Revenue (Millions)'], y=df['Votes'], data=df);"
   ]
  },
  {
   "cell_type": "markdown",
   "metadata": {},
   "source": [
    "* It seems movies which has collected more than 200 Millions have also got more number of votes . "
   ]
  },
  {
   "cell_type": "markdown",
   "metadata": {},
   "source": [
    "# How does Revenue of movies related to audience and critics rating ? "
   ]
  },
  {
   "cell_type": "code",
   "execution_count": 44,
   "metadata": {
    "scrolled": true
   },
   "outputs": [
    {
     "data": {
      "image/png": "[encoded data removed]",
      "text/plain": [
       "<Figure size 432x432 with 3 Axes>"
      ]
     },
     "metadata": {
      "needs_background": "light"
     },
     "output_type": "display_data"
    },
    {
     "data": {
      "image/png": "[encoded data removed]",
      "text/plain": [
       "<Figure size 432x432 with 3 Axes>"
      ]
     },
     "metadata": {
      "needs_background": "light"
     },
     "output_type": "display_data"
    }
   ],
   "source": [
    "\n",
    "sns.jointplot(y=df['Revenue (Millions)'], x=df['Rating'], data=df);\n",
    "sns.jointplot(y=df['Revenue (Millions)'], x=df['Metascore'], data=df);"
   ]
  },
  {
   "cell_type": "markdown",
   "metadata": {},
   "source": [
    "* It can be observed that movies which have earned more than  200 Million USD have been rated above 60 by audience \n",
    "* It seems that in general critic rating is spread out and has not much relevance to gross revenue ,but movies which have collected more than 400 Million USD have received good ratings  by critics also ."
   ]
  },
  {
   "cell_type": "markdown",
   "metadata": {},
   "source": [
    "# How does audience  rating  vary over different genres ?"
   ]
  },
  {
   "cell_type": "code",
   "execution_count": 83,
   "metadata": {
    "scrolled": false
   },
   "outputs": [
    {
     "data": {
      "image/png": "[encoded data removed]",
      "text/plain": [
       "<Figure size 864x432 with 1 Axes>"
      ]
     },
     "metadata": {
      "needs_background": "light"
     },
     "output_type": "display_data"
    }
   ],
   "source": [
    "sns.catplot(x=\"Genre\", y=\"Rating\", kind=\"bar\", data=df, orient=\"v\",height=6, aspect=2);"
   ]
  },
  {
   "cell_type": "markdown",
   "metadata": {},
   "source": [
    "* Animation, Biography and Drama seems to be most liked genres by the audience ."
   ]
  },
  {
   "cell_type": "markdown",
   "metadata": {},
   "source": [
    "# Who are the top 10 directors who has directed most number of movies ?"
   ]
  },
  {
   "cell_type": "code",
   "execution_count": 10,
   "metadata": {},
   "outputs": [
    {
     "data": {
      "text/plain": [
       "Ridley Scott          8\n",
       "Michael Bay           6\n",
       "David Yates           6\n",
       "Paul W.S. Anderson    6\n",
       "Denis Villeneuve      5\n",
       "Martin Scorsese       5\n",
       "Zack Snyder           5\n",
       "David Fincher         5\n",
       "J.J. Abrams           5\n",
       "Christopher Nolan     5\n",
       "Name: Director, dtype: int64"
      ]
     },
     "execution_count": 10,
     "metadata": {},
     "output_type": "execute_result"
    }
   ],
   "source": [
    "df['Director'].value_counts().sort_values(ascending=False)[:10]"
   ]
  },
  {
   "cell_type": "markdown",
   "metadata": {},
   "source": [
    "* Ridley scott with 8 movies ,followed by Michael Bay , David Yates and Paul Anderson are among top 10 directors ."
   ]
  },
  {
   "cell_type": "markdown",
   "metadata": {},
   "source": [
    "## Who are the most common director among Top 20 movies of highest gross revenue ?"
   ]
  },
  {
   "cell_type": "code",
   "execution_count": 12,
   "metadata": {},
   "outputs": [
    {
     "data": {
      "text/plain": [
       "Christopher Nolan    2\n",
       "Joss Whedon          2\n",
       "Chris Buck           1\n",
       "Pierre Coffin        1\n",
       "Anthony Russo        1\n",
       "Andrew Stanton       1\n",
       "James Cameron        1\n",
       "Gareth Edwards       1\n",
       "Gary Ross            1\n",
       "J.J. Abrams          1\n",
       "Colin Trevorrow      1\n",
       "David Yates          1\n",
       "Lee Unkrich          1\n",
       "Gore Verbinski       1\n",
       "Michael Bay          1\n",
       "Shane Black          1\n",
       "Francis Lawrence     1\n",
       "Chris Renaud         1\n",
       "Name: Director, dtype: int64"
      ]
     },
     "execution_count": 12,
     "metadata": {},
     "output_type": "execute_result"
    }
   ],
   "source": [
    "df_hgross['Director'].value_counts()"
   ]
  },
  {
   "cell_type": "markdown",
   "metadata": {},
   "source": [
    "* <b>Christopher Nolan</b> and <b>Jess Whedon</b> are most common directors among Top 20 highest grossing movies .\n",
    "* Another observation is that <b>Christopher Nolan</b> is also among Top 10 directors with highest number of movies, where he has directed 5 movies over a period of 10 years . \n",
    "* Hence it can be inferred that he is one of the most successful directors ."
   ]
  },
  {
   "cell_type": "markdown",
   "metadata": {},
   "source": [
    "### List of movies directed by Christopher Nolan "
   ]
  },
  {
   "cell_type": "code",
   "execution_count": 80,
   "metadata": {},
   "outputs": [
    {
     "data": {
      "text/html": [
       "<div>\n",
       "<style scoped>\n",
       "    .dataframe tbody tr th:only-of-type {\n",
       "        vertical-align: middle;\n",
       "    }\n",
       "\n",
       "    .dataframe tbody tr th {\n",
       "        vertical-align: top;\n",
       "    }\n",
       "\n",
       "    .dataframe thead th {\n",
       "        text-align: right;\n",
       "    }\n",
       "</style>\n",
       "<table border=\"1\" class=\"dataframe\">\n",
       "  <thead>\n",
       "    <tr style=\"text-align: right;\">\n",
       "      <th></th>\n",
       "      <th>Rank</th>\n",
       "      <th>Title</th>\n",
       "      <th>Genre</th>\n",
       "      <th>Description</th>\n",
       "      <th>Director</th>\n",
       "      <th>Actors</th>\n",
       "      <th>Year</th>\n",
       "      <th>Runtime (Minutes)</th>\n",
       "      <th>Rating</th>\n",
       "      <th>Votes</th>\n",
       "      <th>Revenue (Millions)</th>\n",
       "      <th>Metascore</th>\n",
       "    </tr>\n",
       "  </thead>\n",
       "  <tbody>\n",
       "    <tr>\n",
       "      <th>36</th>\n",
       "      <td>37</td>\n",
       "      <td>Interstellar</td>\n",
       "      <td>Adventure</td>\n",
       "      <td>A team of explorers travel through a wormhole ...</td>\n",
       "      <td>Christopher Nolan</td>\n",
       "      <td>Matthew McConaughey, Anne Hathaway, Jessica Ch...</td>\n",
       "      <td>2014</td>\n",
       "      <td>169</td>\n",
       "      <td>86.0</td>\n",
       "      <td>1047747</td>\n",
       "      <td>187.99</td>\n",
       "      <td>74.0</td>\n",
       "    </tr>\n",
       "    <tr>\n",
       "      <th>54</th>\n",
       "      <td>55</td>\n",
       "      <td>The Dark Knight</td>\n",
       "      <td>Action</td>\n",
       "      <td>When the menace known as the Joker wreaks havo...</td>\n",
       "      <td>Christopher Nolan</td>\n",
       "      <td>Christian Bale, Heath Ledger, Aaron Eckhart,Mi...</td>\n",
       "      <td>2008</td>\n",
       "      <td>152</td>\n",
       "      <td>90.0</td>\n",
       "      <td>1791916</td>\n",
       "      <td>533.32</td>\n",
       "      <td>82.0</td>\n",
       "    </tr>\n",
       "    <tr>\n",
       "      <th>64</th>\n",
       "      <td>65</td>\n",
       "      <td>The Prestige</td>\n",
       "      <td>Drama</td>\n",
       "      <td>Two stage magicians engage in competitive one-...</td>\n",
       "      <td>Christopher Nolan</td>\n",
       "      <td>Christian Bale, Hugh Jackman, Scarlett Johanss...</td>\n",
       "      <td>2006</td>\n",
       "      <td>130</td>\n",
       "      <td>85.0</td>\n",
       "      <td>913152</td>\n",
       "      <td>53.08</td>\n",
       "      <td>66.0</td>\n",
       "    </tr>\n",
       "    <tr>\n",
       "      <th>80</th>\n",
       "      <td>81</td>\n",
       "      <td>Inception</td>\n",
       "      <td>Action</td>\n",
       "      <td>A thief, who steals corporate secrets through ...</td>\n",
       "      <td>Christopher Nolan</td>\n",
       "      <td>Leonardo DiCaprio, Joseph Gordon-Levitt, Ellen...</td>\n",
       "      <td>2010</td>\n",
       "      <td>148</td>\n",
       "      <td>88.0</td>\n",
       "      <td>1583625</td>\n",
       "      <td>292.57</td>\n",
       "      <td>74.0</td>\n",
       "    </tr>\n",
       "    <tr>\n",
       "      <th>124</th>\n",
       "      <td>125</td>\n",
       "      <td>The Dark Knight Rises</td>\n",
       "      <td>Action</td>\n",
       "      <td>Eight years after the Joker's reign of anarchy...</td>\n",
       "      <td>Christopher Nolan</td>\n",
       "      <td>Christian Bale, Tom Hardy, Anne Hathaway,Gary ...</td>\n",
       "      <td>2012</td>\n",
       "      <td>164</td>\n",
       "      <td>85.0</td>\n",
       "      <td>1222645</td>\n",
       "      <td>448.13</td>\n",
       "      <td>78.0</td>\n",
       "    </tr>\n",
       "  </tbody>\n",
       "</table>\n",
       "</div>"
      ],
      "text/plain": [
       "     Rank                  Title      Genre  \\\n",
       "36     37           Interstellar  Adventure   \n",
       "54     55        The Dark Knight     Action   \n",
       "64     65           The Prestige      Drama   \n",
       "80     81              Inception     Action   \n",
       "124   125  The Dark Knight Rises     Action   \n",
       "\n",
       "                                           Description           Director  \\\n",
       "36   A team of explorers travel through a wormhole ...  Christopher Nolan   \n",
       "54   When the menace known as the Joker wreaks havo...  Christopher Nolan   \n",
       "64   Two stage magicians engage in competitive one-...  Christopher Nolan   \n",
       "80   A thief, who steals corporate secrets through ...  Christopher Nolan   \n",
       "124  Eight years after the Joker's reign of anarchy...  Christopher Nolan   \n",
       "\n",
       "                                                Actors  Year  \\\n",
       "36   Matthew McConaughey, Anne Hathaway, Jessica Ch...  2014   \n",
       "54   Christian Bale, Heath Ledger, Aaron Eckhart,Mi...  2008   \n",
       "64   Christian Bale, Hugh Jackman, Scarlett Johanss...  2006   \n",
       "80   Leonardo DiCaprio, Joseph Gordon-Levitt, Ellen...  2010   \n",
       "124  Christian Bale, Tom Hardy, Anne Hathaway,Gary ...  2012   \n",
       "\n",
       "     Runtime (Minutes)  Rating    Votes  Revenue (Millions)  Metascore  \n",
       "36                 169    86.0  1047747              187.99       74.0  \n",
       "54                 152    90.0  1791916              533.32       82.0  \n",
       "64                 130    85.0   913152               53.08       66.0  \n",
       "80                 148    88.0  1583625              292.57       74.0  \n",
       "124                164    85.0  1222645              448.13       78.0  "
      ]
     },
     "execution_count": 80,
     "metadata": {},
     "output_type": "execute_result"
    }
   ],
   "source": [
    "df_popdir= df[df['Director']=='Christopher Nolan']\n",
    "df_popdir"
   ]
  },
  {
   "cell_type": "markdown",
   "metadata": {},
   "source": [
    "## Comparison of Audience rating for all Nolan's movies with respect to overall audience rating for other movies"
   ]
  },
  {
   "cell_type": "code",
   "execution_count": 81,
   "metadata": {},
   "outputs": [
    {
     "data": {
      "text/plain": [
       "<matplotlib.legend.Legend at 0x1edf9997c88>"
      ]
     },
     "execution_count": 81,
     "metadata": {},
     "output_type": "execute_result"
    },
    {
     "data": {
      "image/png": "[encoded data removed]",
      "text/plain": [
       "<Figure size 432x288 with 1 Axes>"
      ]
     },
     "metadata": {
      "needs_background": "light"
     },
     "output_type": "display_data"
    }
   ],
   "source": [
    "sns.distplot(df_popdir['Rating'],hist=True ,kde=True,label='imdb_rating_nolan')\n",
    "sns.distplot(df['Rating'],hist=True ,kde=True,label='imdb_rating')\n",
    "plt.legend()"
   ]
  },
  {
   "cell_type": "markdown",
   "metadata": {},
   "source": [
    "* It can be observed that audience have rated the movies of <b>Chrisopher Nolan</b> mostly above 80 which is  well above the  average rating for all other movies . \n",
    "* Hence Christopher Nolan can be considered as one of the most popular directors among the audience and also with a very high success ratio at Box office . \n",
    "* Hence Production companies can consider him for their upcoming productions ."
   ]
  },
  {
   "cell_type": "markdown",
   "metadata": {},
   "source": [
    "## 6. Conclusion <a id='6' ></a>"
   ]
  },
  {
   "cell_type": "markdown",
   "metadata": {},
   "source": [
    "* With the help of notebook I learnt how exploratory data analysis can be carried out using Pandas plotting.\n",
    "* Also I have seen making use of packages like matplotlib and seaborn to develop better insights about the data.\n",
    "* I have also seen how preproceesing helps in dealing with missing values and irregualities present in the data. \n",
    "* I also make use of pandas profiling feature to generate an html report containing all the information of \n",
    "the various features present in the dataset.\n",
    "* Action , Comedy and Drama are the most common genres among the movies . Animation,Biography and Drama are most preferred genres for the audience.\n",
    "* I have observed the impact of Genre,Audience rating,crtics rating and votes on the Gross Revenue collection of the movies.\n",
    "* I have tried to explore the most successful directors among the given dataset, whose movies have got good ratings by audience and also made good collection at the box office.This can help the production houses to sign for their upcoming projects.\n",
    "* This analysis can help me to choose which machine learning model we can apply to predict the success of movies .\n"
   ]
  },
  {
   "cell_type": "code",
   "execution_count": null,
   "metadata": {},
   "outputs": [],
   "source": []
  }
 ],
 "metadata": {
  "kernelspec": {
   "display_name": "Python 3",
   "language": "python",
   "name": "python3"
  },
  "language_info": {
   "codemirror_mode": {
    "name": "ipython",
    "version": 3
   },
   "file_extension": ".py",
   "mimetype": "text/x-python",
   "name": "python",
   "nbconvert_exporter": "python",
   "pygments_lexer": "ipython3",
   "version": "3.7.3"
  }
 },
 "nbformat": 4,
 "nbformat_minor": 2
}
